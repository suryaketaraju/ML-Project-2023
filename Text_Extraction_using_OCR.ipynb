{
 "cells": [
  {
   "cell_type": "code",
   "execution_count": 6,
   "id": "c026ae58",
   "metadata": {},
   "outputs": [
    {
     "name": "stdout",
     "output_type": "stream",
     "text": [
      "Requirement already satisfied: pytesseract in c:\\users\\hp\\anaconda3\\lib\\site-packages (0.3.10)\n",
      "Requirement already satisfied: Pillow in c:\\users\\hp\\anaconda3\\lib\\site-packages (9.4.0)\n",
      "Requirement already satisfied: packaging>=21.3 in c:\\users\\hp\\anaconda3\\lib\\site-packages (from pytesseract) (23.0)\n",
      "Note: you may need to restart the kernel to use updated packages.\n"
     ]
    }
   ],
   "source": [
    "pip install pytesseract Pillow\n"
   ]
  },
  {
   "cell_type": "code",
   "execution_count": 7,
   "id": "9f751fb8",
   "metadata": {},
   "outputs": [
    {
     "name": "stdout",
     "output_type": "stream",
     "text": [
      "Requirement already satisfied: pytesseract in c:\\users\\hp\\anaconda3\\lib\\site-packages (0.3.10)\n",
      "Requirement already satisfied: Tesseract in c:\\users\\hp\\anaconda3\\lib\\site-packages (0.1.3)\n",
      "Requirement already satisfied: packaging>=21.3 in c:\\users\\hp\\anaconda3\\lib\\site-packages (from pytesseract) (23.0)\n",
      "Requirement already satisfied: Pillow>=8.0.0 in c:\\users\\hp\\anaconda3\\lib\\site-packages (from pytesseract) (9.4.0)\n",
      "Note: you may need to restart the kernel to use updated packages.\n"
     ]
    }
   ],
   "source": [
    "pip install pytesseract Tesseract"
   ]
  },
  {
   "cell_type": "code",
   "execution_count": 17,
   "id": "dd2e8da7",
   "metadata": {},
   "outputs": [],
   "source": [
    "# Import the necessary libraries\n",
    "from PIL import Image\n",
    "import pytesseract"
   ]
  },
  {
   "cell_type": "code",
   "execution_count": 18,
   "id": "bf244979",
   "metadata": {},
   "outputs": [],
   "source": [
    "# Path to the Tesseract executable (update this if your Tesseract installation is in a different location)\n",
    "pytesseract.pytesseract.tesseract_cmd = r'C:\\Program Files\\Tesseract-OCR\\tesseract.exe'"
   ]
  },
  {
   "cell_type": "code",
   "execution_count": 19,
   "id": "f0ddff7d",
   "metadata": {},
   "outputs": [],
   "source": [
    "# Path to the image file you want to perform OCR on\n",
    "image_path = r'D:\\SEM 1 Mtech\\ML_Project\\images.jpeg'  \n",
    "\n",
    "# Specify the language code ('hin' for Devanagari languages, 'urd' for Urdu)\n",
    "language = 'hin'  # Use 'urd' for Urdu\n",
    "\n",
    "# Open the image using PIL (Python Imaging Library)\n",
    "image = Image.open(image_path)\n",
    "\n",
    "# Use Tesseract to do OCR on the image with specified language\n",
    "extracted_text = pytesseract.image_to_string(image, lang=language)\n"
   ]
  },
  {
   "cell_type": "code",
   "execution_count": 20,
   "id": "8688d2ad",
   "metadata": {},
   "outputs": [
    {
     "name": "stdout",
     "output_type": "stream",
     "text": [
      "Extracted Text:\n",
      "मराठी अर्रि\n",
      "\n",
      "अआइईउक एटिओओअंअः\n",
      "कखगघडचछजड्त्रटठ\n",
      "डठणतथ ट्चनपफबभम\n",
      "यरलवश षसहकक्षज़ञतुद\n",
      "\n",
      "\n"
     ]
    }
   ],
   "source": [
    "print(\"Extracted Text:\")\n",
    "print(extracted_text)\n"
   ]
  },
  {
   "cell_type": "code",
   "execution_count": null,
   "id": "701990af",
   "metadata": {},
   "outputs": [],
   "source": []
  }
 ],
 "metadata": {
  "kernelspec": {
   "display_name": "Python 3 (ipykernel)",
   "language": "python",
   "name": "python3"
  },
  "language_info": {
   "codemirror_mode": {
    "name": "ipython",
    "version": 3
   },
   "file_extension": ".py",
   "mimetype": "text/x-python",
   "name": "python",
   "nbconvert_exporter": "python",
   "pygments_lexer": "ipython3",
   "version": "3.11.4"
  }
 },
 "nbformat": 4,
 "nbformat_minor": 5
}
